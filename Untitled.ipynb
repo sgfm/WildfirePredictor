{
 "cells": [
  {
   "cell_type": "code",
   "execution_count": 1,
   "metadata": {},
   "outputs": [],
   "source": [
    "import pandas as pd\n",
    "import numpy as np\n",
    "import matplotlib.pyplot as plt"
   ]
  },
  {
   "cell_type": "code",
   "execution_count": 2,
   "metadata": {},
   "outputs": [],
   "source": [
    "import sqlite3\n",
    "from sqlite3 import Error"
   ]
  },
  {
   "cell_type": "code",
   "execution_count": 3,
   "metadata": {},
   "outputs": [],
   "source": [
    "def create_connection(db_file):\n",
    "    \"\"\" create a database connection to the SQLite database\n",
    "        specified by the db_file\n",
    "    :param db_file: database file\n",
    "    :return: Connection object or None\n",
    "    \"\"\"\n",
    "    conn = None\n",
    "    try:\n",
    "        conn = sqlite3.connect(db_file)\n",
    "    except Error as e:\n",
    "        print(e)\n",
    " \n",
    "    return conn\n",
    " \n",
    "def select_all_tasks(conn):\n",
    "    \"\"\"\n",
    "    Query all rows in the tasks table\n",
    "    :param conn: the Connection object\n",
    "    :return:\n",
    "    \"\"\"\n",
    "    cur = conn.cursor()\n",
    "    cur.execute(\"SELECT * FROM tasks\")\n",
    " \n",
    "    rows = cur.fetchall()\n",
    " \n",
    "    for row in rows:\n",
    "        print(row)\n",
    " \n",
    " \n",
    "def select_task_by_priority(conn, priority):\n",
    "    \"\"\"\n",
    "    Query tasks by priority\n",
    "    :param conn: the Connection object\n",
    "    :param priority:\n",
    "    :return:\n",
    "    \"\"\"\n",
    "    cur = conn.cursor()\n",
    "    cur.execute(\"SELECT * FROM tasks WHERE priority=?\", (priority,))\n",
    " \n",
    "    rows = cur.fetchall()\n",
    " \n",
    "    for row in rows:\n",
    "        print(row)\n",
    " \n",
    " \n",
    "def main():\n",
    "    database = r\"C:\\sqlite\\db\\pythonsqlite.db\"\n",
    " \n",
    "    # create a database connection\n",
    "    conn = create_connection(database)\n",
    "    with conn:\n",
    "        print(\"1. Query task by priority:\")\n",
    "        select_task_by_priority(conn, 1)\n",
    " \n",
    "        print(\"2. Query all tasks\")\n",
    "        select_all_tasks(conn)\n",
    " "
   ]
  },
  {
   "cell_type": "code",
   "execution_count": 4,
   "metadata": {},
   "outputs": [],
   "source": [
    "conn = create_connection('FPA_FOD_20170508.sqlite')"
   ]
  },
  {
   "cell_type": "code",
   "execution_count": 5,
   "metadata": {},
   "outputs": [],
   "source": [
    "cur = conn.cursor()\n",
    "cur.execute('SELECT * FROM Fires WHERE FIRE_YEAR > 2010')\n",
    "rows = cur.fetchall()\n"
   ]
  },
  {
   "cell_type": "code",
   "execution_count": null,
   "metadata": {},
   "outputs": [],
   "source": []
  },
  {
   "cell_type": "code",
   "execution_count": 6,
   "metadata": {},
   "outputs": [],
   "source": [
    "columns = ['OBJECTID','FOD_ID','FPA_ID','SOURCE_SYSTEM_TYPE','SOURCE_SYSTEM','NWCG_REPORTING_AGENCY',\n",
    "'NWCG_REPORTING_UNIT_ID',\n",
    "'NWCG_REPORTING_UNIT_NAME',\n",
    "'SOURCE_REPORTING_UNIT',\n",
    "'SOURCE_REPORTING_UNIT_NAME',\n",
    "'LOCAL_FIRE_REPORT_ID',\n",
    "'LOCAL_INCIDENT_ID','FIRE_CODE',\n",
    "'FIRE_NAME',\n",
    "'ICS_209_INCIDENT_NUMBER',\n",
    "'ICS_209_NAME',\n",
    "'MTBS_ID',\n",
    "'MTBS_FIRE_NAME',\n",
    "'COMPLEX_NAME',\n",
    "'FIRE_YEAR',\n",
    "'DISCOVERY_DATE','DISCOVERY_DOY','DISCOVERY_TIME','STAT_CAUSE_CODE','STAT_CAUSE_DESCR','CONT_DATE','CONT_DOY','CONT_TIME',\n",
    "'FIRE_SIZE','FIRE_SIZE_CLASS','LATITUDE','LONGITUDE','OWNER_CODE','OWNER_DESCR','STATE','COUNTY','FIPS_CODE','FIPS_NAME','Shape']"
   ]
  },
  {
   "cell_type": "code",
   "execution_count": 7,
   "metadata": {},
   "outputs": [
    {
     "data": {
      "text/html": [
       "<div>\n",
       "<style scoped>\n",
       "    .dataframe tbody tr th:only-of-type {\n",
       "        vertical-align: middle;\n",
       "    }\n",
       "\n",
       "    .dataframe tbody tr th {\n",
       "        vertical-align: top;\n",
       "    }\n",
       "\n",
       "    .dataframe thead th {\n",
       "        text-align: right;\n",
       "    }\n",
       "</style>\n",
       "<table border=\"1\" class=\"dataframe\">\n",
       "  <thead>\n",
       "    <tr style=\"text-align: right;\">\n",
       "      <th></th>\n",
       "      <th>OBJECTID</th>\n",
       "      <th>FOD_ID</th>\n",
       "      <th>FPA_ID</th>\n",
       "      <th>SOURCE_SYSTEM_TYPE</th>\n",
       "      <th>SOURCE_SYSTEM</th>\n",
       "      <th>NWCG_REPORTING_AGENCY</th>\n",
       "      <th>NWCG_REPORTING_UNIT_ID</th>\n",
       "      <th>NWCG_REPORTING_UNIT_NAME</th>\n",
       "      <th>SOURCE_REPORTING_UNIT</th>\n",
       "      <th>SOURCE_REPORTING_UNIT_NAME</th>\n",
       "      <th>...</th>\n",
       "      <th>FIRE_SIZE_CLASS</th>\n",
       "      <th>LATITUDE</th>\n",
       "      <th>LONGITUDE</th>\n",
       "      <th>OWNER_CODE</th>\n",
       "      <th>OWNER_DESCR</th>\n",
       "      <th>STATE</th>\n",
       "      <th>COUNTY</th>\n",
       "      <th>FIPS_CODE</th>\n",
       "      <th>FIPS_NAME</th>\n",
       "      <th>Shape</th>\n",
       "    </tr>\n",
       "  </thead>\n",
       "  <tbody>\n",
       "    <tr>\n",
       "      <td>0</td>\n",
       "      <td>1453965</td>\n",
       "      <td>20020059</td>\n",
       "      <td>FS-1496314</td>\n",
       "      <td>FED</td>\n",
       "      <td>FS-FIRESTAT</td>\n",
       "      <td>FS</td>\n",
       "      <td>USAKCGF</td>\n",
       "      <td>Chugach National Forest</td>\n",
       "      <td>1004</td>\n",
       "      <td>Chugach National Forest</td>\n",
       "      <td>...</td>\n",
       "      <td>A</td>\n",
       "      <td>60.246389</td>\n",
       "      <td>-149.349444</td>\n",
       "      <td>13.0</td>\n",
       "      <td>STATE OR PRIVATE</td>\n",
       "      <td>AK</td>\n",
       "      <td>None</td>\n",
       "      <td>None</td>\n",
       "      <td>None</td>\n",
       "      <td>b'\\x00\\x01\\xad\\x10\\x00\\x0042\\x1b\\xa6.\\xabb\\xc0...</td>\n",
       "    </tr>\n",
       "    <tr>\n",
       "      <td>1</td>\n",
       "      <td>1453966</td>\n",
       "      <td>20020060</td>\n",
       "      <td>FS-1496318</td>\n",
       "      <td>FED</td>\n",
       "      <td>FS-FIRESTAT</td>\n",
       "      <td>FS</td>\n",
       "      <td>USAKCGF</td>\n",
       "      <td>Chugach National Forest</td>\n",
       "      <td>1004</td>\n",
       "      <td>Chugach National Forest</td>\n",
       "      <td>...</td>\n",
       "      <td>A</td>\n",
       "      <td>60.475833</td>\n",
       "      <td>-149.752500</td>\n",
       "      <td>13.0</td>\n",
       "      <td>STATE OR PRIVATE</td>\n",
       "      <td>AK</td>\n",
       "      <td>None</td>\n",
       "      <td>None</td>\n",
       "      <td>None</td>\n",
       "      <td>b'\\x00\\x01\\xad\\x10\\x00\\x00\\xadG\\xe1z\\x14\\xb8b\\...</td>\n",
       "    </tr>\n",
       "    <tr>\n",
       "      <td>2</td>\n",
       "      <td>1453967</td>\n",
       "      <td>20020061</td>\n",
       "      <td>FS-1496319</td>\n",
       "      <td>FED</td>\n",
       "      <td>FS-FIRESTAT</td>\n",
       "      <td>FS</td>\n",
       "      <td>USAKCGF</td>\n",
       "      <td>Chugach National Forest</td>\n",
       "      <td>1004</td>\n",
       "      <td>Chugach National Forest</td>\n",
       "      <td>...</td>\n",
       "      <td>A</td>\n",
       "      <td>60.514444</td>\n",
       "      <td>-149.467500</td>\n",
       "      <td>13.0</td>\n",
       "      <td>STATE OR PRIVATE</td>\n",
       "      <td>AK</td>\n",
       "      <td>None</td>\n",
       "      <td>None</td>\n",
       "      <td>None</td>\n",
       "      <td>b'\\x00\\x01\\xad\\x10\\x00\\x00(\\\\\\x8f\\xc2\\xf5\\xaeb...</td>\n",
       "    </tr>\n",
       "    <tr>\n",
       "      <td>3</td>\n",
       "      <td>1453968</td>\n",
       "      <td>20020062</td>\n",
       "      <td>FS-1496321</td>\n",
       "      <td>FED</td>\n",
       "      <td>FS-FIRESTAT</td>\n",
       "      <td>FS</td>\n",
       "      <td>USAKCGF</td>\n",
       "      <td>Chugach National Forest</td>\n",
       "      <td>1004</td>\n",
       "      <td>Chugach National Forest</td>\n",
       "      <td>...</td>\n",
       "      <td>A</td>\n",
       "      <td>60.399722</td>\n",
       "      <td>-149.360833</td>\n",
       "      <td>13.0</td>\n",
       "      <td>STATE OR PRIVATE</td>\n",
       "      <td>AK</td>\n",
       "      <td>None</td>\n",
       "      <td>None</td>\n",
       "      <td>None</td>\n",
       "      <td>b'\\x00\\x01\\xad\\x10\\x00\\x00\\x03\\xf5V\\xf2\\x8b\\xa...</td>\n",
       "    </tr>\n",
       "    <tr>\n",
       "      <td>4</td>\n",
       "      <td>1453969</td>\n",
       "      <td>20020063</td>\n",
       "      <td>FS-1496322</td>\n",
       "      <td>FED</td>\n",
       "      <td>FS-FIRESTAT</td>\n",
       "      <td>FS</td>\n",
       "      <td>USAKCGF</td>\n",
       "      <td>Chugach National Forest</td>\n",
       "      <td>1004</td>\n",
       "      <td>Chugach National Forest</td>\n",
       "      <td>...</td>\n",
       "      <td>A</td>\n",
       "      <td>60.467500</td>\n",
       "      <td>-149.973056</td>\n",
       "      <td>5.0</td>\n",
       "      <td>USFS</td>\n",
       "      <td>AK</td>\n",
       "      <td>None</td>\n",
       "      <td>None</td>\n",
       "      <td>None</td>\n",
       "      <td>b'\\x00\\x01\\xad\\x10\\x00\\x00\\x82\\xeciE#\\xbfb\\xc0...</td>\n",
       "    </tr>\n",
       "  </tbody>\n",
       "</table>\n",
       "<p>5 rows × 39 columns</p>\n",
       "</div>"
      ],
      "text/plain": [
       "   OBJECTID    FOD_ID      FPA_ID SOURCE_SYSTEM_TYPE SOURCE_SYSTEM  \\\n",
       "0   1453965  20020059  FS-1496314                FED   FS-FIRESTAT   \n",
       "1   1453966  20020060  FS-1496318                FED   FS-FIRESTAT   \n",
       "2   1453967  20020061  FS-1496319                FED   FS-FIRESTAT   \n",
       "3   1453968  20020062  FS-1496321                FED   FS-FIRESTAT   \n",
       "4   1453969  20020063  FS-1496322                FED   FS-FIRESTAT   \n",
       "\n",
       "  NWCG_REPORTING_AGENCY NWCG_REPORTING_UNIT_ID NWCG_REPORTING_UNIT_NAME  \\\n",
       "0                    FS                USAKCGF  Chugach National Forest   \n",
       "1                    FS                USAKCGF  Chugach National Forest   \n",
       "2                    FS                USAKCGF  Chugach National Forest   \n",
       "3                    FS                USAKCGF  Chugach National Forest   \n",
       "4                    FS                USAKCGF  Chugach National Forest   \n",
       "\n",
       "  SOURCE_REPORTING_UNIT SOURCE_REPORTING_UNIT_NAME  ... FIRE_SIZE_CLASS  \\\n",
       "0                  1004    Chugach National Forest  ...               A   \n",
       "1                  1004    Chugach National Forest  ...               A   \n",
       "2                  1004    Chugach National Forest  ...               A   \n",
       "3                  1004    Chugach National Forest  ...               A   \n",
       "4                  1004    Chugach National Forest  ...               A   \n",
       "\n",
       "    LATITUDE   LONGITUDE OWNER_CODE       OWNER_DESCR STATE COUNTY FIPS_CODE  \\\n",
       "0  60.246389 -149.349444       13.0  STATE OR PRIVATE    AK   None      None   \n",
       "1  60.475833 -149.752500       13.0  STATE OR PRIVATE    AK   None      None   \n",
       "2  60.514444 -149.467500       13.0  STATE OR PRIVATE    AK   None      None   \n",
       "3  60.399722 -149.360833       13.0  STATE OR PRIVATE    AK   None      None   \n",
       "4  60.467500 -149.973056        5.0              USFS    AK   None      None   \n",
       "\n",
       "  FIPS_NAME                                              Shape  \n",
       "0      None  b'\\x00\\x01\\xad\\x10\\x00\\x0042\\x1b\\xa6.\\xabb\\xc0...  \n",
       "1      None  b'\\x00\\x01\\xad\\x10\\x00\\x00\\xadG\\xe1z\\x14\\xb8b\\...  \n",
       "2      None  b'\\x00\\x01\\xad\\x10\\x00\\x00(\\\\\\x8f\\xc2\\xf5\\xaeb...  \n",
       "3      None  b'\\x00\\x01\\xad\\x10\\x00\\x00\\x03\\xf5V\\xf2\\x8b\\xa...  \n",
       "4      None  b'\\x00\\x01\\xad\\x10\\x00\\x00\\x82\\xeciE#\\xbfb\\xc0...  \n",
       "\n",
       "[5 rows x 39 columns]"
      ]
     },
     "execution_count": 7,
     "metadata": {},
     "output_type": "execute_result"
    }
   ],
   "source": [
    "t = pd.DataFrame(rows, columns = columns)\n",
    "t.head()"
   ]
  },
  {
   "cell_type": "code",
   "execution_count": 8,
   "metadata": {},
   "outputs": [
    {
     "data": {
      "text/plain": [
       "(370345, 39)"
      ]
     },
     "execution_count": 8,
     "metadata": {},
     "output_type": "execute_result"
    }
   ],
   "source": [
    "t.shape"
   ]
  },
  {
   "cell_type": "code",
   "execution_count": 12,
   "metadata": {},
   "outputs": [
    {
     "data": {
      "text/plain": [
       "0         2455641.5\n",
       "1         2455666.5\n",
       "2         2455692.5\n",
       "3         2455694.5\n",
       "4         2455759.5\n",
       "            ...    \n",
       "370340    2457291.5\n",
       "370341    2457300.5\n",
       "370342    2457144.5\n",
       "370343    2457309.5\n",
       "370344    2457095.5\n",
       "Name: DISCOVERY_DATE, Length: 370345, dtype: float64"
      ]
     },
     "execution_count": 12,
     "metadata": {},
     "output_type": "execute_result"
    }
   ],
   "source": [
    "t['DISCOVERY_DATE']"
   ]
  },
  {
   "cell_type": "code",
   "execution_count": 9,
   "metadata": {},
   "outputs": [
    {
     "name": "stdout",
     "output_type": "stream",
     "text": [
      "<class 'pandas.core.frame.DataFrame'>\n",
      "RangeIndex: 370345 entries, 0 to 370344\n",
      "Data columns (total 39 columns):\n",
      "OBJECTID                      370345 non-null int64\n",
      "FOD_ID                        370345 non-null int64\n",
      "FPA_ID                        370345 non-null object\n",
      "SOURCE_SYSTEM_TYPE            370345 non-null object\n",
      "SOURCE_SYSTEM                 370345 non-null object\n",
      "NWCG_REPORTING_AGENCY         370345 non-null object\n",
      "NWCG_REPORTING_UNIT_ID        370345 non-null object\n",
      "NWCG_REPORTING_UNIT_NAME      370345 non-null object\n",
      "SOURCE_REPORTING_UNIT         370345 non-null object\n",
      "SOURCE_REPORTING_UNIT_NAME    370345 non-null object\n",
      "LOCAL_FIRE_REPORT_ID          71354 non-null object\n",
      "LOCAL_INCIDENT_ID             315517 non-null object\n",
      "FIRE_CODE                     80263 non-null object\n",
      "FIRE_NAME                     292456 non-null object\n",
      "ICS_209_INCIDENT_NUMBER       8144 non-null object\n",
      "ICS_209_NAME                  8144 non-null object\n",
      "MTBS_ID                       2651 non-null object\n",
      "MTBS_FIRE_NAME                2651 non-null object\n",
      "COMPLEX_NAME                  1595 non-null object\n",
      "FIRE_YEAR                     370345 non-null int64\n",
      "DISCOVERY_DATE                370345 non-null float64\n",
      "DISCOVERY_DOY                 370345 non-null int64\n",
      "DISCOVERY_TIME                292326 non-null object\n",
      "STAT_CAUSE_CODE               370345 non-null float64\n",
      "STAT_CAUSE_DESCR              370345 non-null object\n",
      "CONT_DATE                     283416 non-null float64\n",
      "CONT_DOY                      283416 non-null float64\n",
      "CONT_TIME                     258369 non-null object\n",
      "FIRE_SIZE                     370345 non-null float64\n",
      "FIRE_SIZE_CLASS               370345 non-null object\n",
      "LATITUDE                      370345 non-null float64\n",
      "LONGITUDE                     370345 non-null float64\n",
      "OWNER_CODE                    370345 non-null float64\n",
      "OWNER_DESCR                   370345 non-null object\n",
      "STATE                         370345 non-null object\n",
      "COUNTY                        318200 non-null object\n",
      "FIPS_CODE                     318200 non-null object\n",
      "FIPS_NAME                     318200 non-null object\n",
      "Shape                         370345 non-null object\n",
      "dtypes: float64(8), int64(4), object(27)\n",
      "memory usage: 110.2+ MB\n"
     ]
    }
   ],
   "source": [
    "t.info()"
   ]
  },
  {
   "cell_type": "code",
   "execution_count": 10,
   "metadata": {},
   "outputs": [
    {
     "name": "stdout",
     "output_type": "stream",
     "text": [
      "<class 'pandas.core.frame.DataFrame'>\n",
      "Int64Index: 283416 entries, 0 to 370340\n",
      "Data columns (total 39 columns):\n",
      "OBJECTID                      283416 non-null int64\n",
      "FOD_ID                        283416 non-null int64\n",
      "FPA_ID                        283416 non-null object\n",
      "SOURCE_SYSTEM_TYPE            283416 non-null object\n",
      "SOURCE_SYSTEM                 283416 non-null object\n",
      "NWCG_REPORTING_AGENCY         283416 non-null object\n",
      "NWCG_REPORTING_UNIT_ID        283416 non-null object\n",
      "NWCG_REPORTING_UNIT_NAME      283416 non-null object\n",
      "SOURCE_REPORTING_UNIT         283416 non-null object\n",
      "SOURCE_REPORTING_UNIT_NAME    283416 non-null object\n",
      "LOCAL_FIRE_REPORT_ID          67813 non-null object\n",
      "LOCAL_INCIDENT_ID             233452 non-null object\n",
      "FIRE_CODE                     77812 non-null object\n",
      "FIRE_NAME                     225794 non-null object\n",
      "ICS_209_INCIDENT_NUMBER       7371 non-null object\n",
      "ICS_209_NAME                  7371 non-null object\n",
      "MTBS_ID                       2415 non-null object\n",
      "MTBS_FIRE_NAME                2415 non-null object\n",
      "COMPLEX_NAME                  1303 non-null object\n",
      "FIRE_YEAR                     283416 non-null int64\n",
      "DISCOVERY_DATE                283416 non-null float64\n",
      "DISCOVERY_DOY                 283416 non-null int64\n",
      "DISCOVERY_TIME                264847 non-null object\n",
      "STAT_CAUSE_CODE               283416 non-null float64\n",
      "STAT_CAUSE_DESCR              283416 non-null object\n",
      "CONT_DATE                     283416 non-null float64\n",
      "CONT_DOY                      283416 non-null float64\n",
      "CONT_TIME                     257998 non-null object\n",
      "FIRE_SIZE                     283416 non-null float64\n",
      "FIRE_SIZE_CLASS               283416 non-null object\n",
      "LATITUDE                      283416 non-null float64\n",
      "LONGITUDE                     283416 non-null float64\n",
      "OWNER_CODE                    283416 non-null float64\n",
      "OWNER_DESCR                   283416 non-null object\n",
      "STATE                         283416 non-null object\n",
      "COUNTY                        235819 non-null object\n",
      "FIPS_CODE                     235819 non-null object\n",
      "FIPS_NAME                     235819 non-null object\n",
      "Shape                         283416 non-null object\n",
      "dtypes: float64(8), int64(4), object(27)\n",
      "memory usage: 86.5+ MB\n"
     ]
    }
   ],
   "source": [
    "t[pd.notnull(t['CONT_DATE'])].info()"
   ]
  },
  {
   "cell_type": "code",
   "execution_count": 4,
   "metadata": {},
   "outputs": [
    {
     "ename": "NameError",
     "evalue": "name 'cur' is not defined",
     "output_type": "error",
     "traceback": [
      "\u001b[0;31m---------------------------------------------------------------------------\u001b[0m",
      "\u001b[0;31mNameError\u001b[0m                                 Traceback (most recent call last)",
      "\u001b[0;32m<ipython-input-4-0f4c5dd2e7dd>\u001b[0m in \u001b[0;36m<module>\u001b[0;34m\u001b[0m\n\u001b[0;32m----> 1\u001b[0;31m \u001b[0mcur\u001b[0m\u001b[0;34m.\u001b[0m\u001b[0mexecute\u001b[0m\u001b[0;34m(\u001b[0m\u001b[0;34m'SELECT OBJECTID, FOD_ID, FPA_ID, SOURCE_SYSTEM_TYPE, SOURCE_SYSTEM, NWCG_REPORTING_AGENCY, NWCG_REPORTING_UNIT_ID, NWCG_REPORTING_UNIT_NAME, SOURCE_REPORTING_UNIT, SOURCE_REPORTING_UNIT_NAME, FIRE_YEAR, DISCOVERY_DATE, DISCOVERY_DOY, STAT_CAUSE_CODE, STAT_CAUSE_DESCR, FIRE_SIZE, FIRE_SIZE_CLASS, LATITUDE, LONGITUDE, OWNER_CODE, OWNER_DESCR, STATE FROM Fires'\u001b[0m\u001b[0;34m)\u001b[0m\u001b[0;34m\u001b[0m\u001b[0;34m\u001b[0m\u001b[0m\n\u001b[0m\u001b[1;32m      2\u001b[0m \u001b[0mrows\u001b[0m \u001b[0;34m=\u001b[0m \u001b[0mcur\u001b[0m\u001b[0;34m.\u001b[0m\u001b[0mfetchall\u001b[0m\u001b[0;34m(\u001b[0m\u001b[0;34m)\u001b[0m\u001b[0;34m\u001b[0m\u001b[0;34m\u001b[0m\u001b[0m\n",
      "\u001b[0;31mNameError\u001b[0m: name 'cur' is not defined"
     ]
    }
   ],
   "source": [
    "conn = create_connection('FPA_FOD_20170508.sqlite')\n",
    "cur = conn.cursor()\n",
    "cur.execute('SELECT OBJECTID, FOD_ID, FPA_ID, SOURCE_SYSTEM_TYPE, SOURCE_SYSTEM, NWCG_REPORTING_AGENCY, NWCG_REPORTING_UNIT_ID, NWCG_REPORTING_UNIT_NAME, SOURCE_REPORTING_UNIT, SOURCE_REPORTING_UNIT_NAME, FIRE_YEAR, DISCOVERY_DATE, DISCOVERY_DOY, STAT_CAUSE_CODE, STAT_CAUSE_DESCR, FIRE_SIZE, FIRE_SIZE_CLASS, LATITUDE, LONGITUDE, OWNER_CODE, OWNER_DESCR, STATE FROM Fires')\n",
    "rows = cur.fetchall()"
   ]
  },
  {
   "cell_type": "code",
   "execution_count": 5,
   "metadata": {},
   "outputs": [],
   "source": [
    "clean_col = ['OBJECTID', 'FOD_ID', 'FPA_ID', 'SOURCE_SYSTEM_TYPE', 'SOURCE_SYSTEM', 'NWCG_REPORTING_AGENCY', 'NWCG_REPORTING_UNIT_ID', 'NWCG_REPORTING_UNIT_NAME', 'SOURCE_REPORTING_UNIT', 'SOURCE_REPORTING_UNIT_NAME', 'FIRE_YEAR', 'DISCOVERY_DATE', 'DISCOVERY_DOY', 'STAT_CAUSE_CODE', 'STAT_CAUSE_DESCR', 'FIRE_SIZE', 'FIRE_SIZE_CLASS', 'LATITUDE', 'LONGITUDE', 'OWNER_CODE', 'OWNER_DESCR', 'STATE']"
   ]
  },
  {
   "cell_type": "code",
   "execution_count": null,
   "metadata": {},
   "outputs": [],
   "source": [
    "t = pd.DataFrame(rows, columns = clean_col)\n",
    "t.head()\n"
   ]
  },
  {
   "cell_type": "code",
   "execution_count": null,
   "metadata": {},
   "outputs": [],
   "source": [
    "t.shape"
   ]
  },
  {
   "cell_type": "code",
   "execution_count": null,
   "metadata": {},
   "outputs": [],
   "source": [
    "t['FIRE_YEAR'].value_counts() #Plot the frequency of fires by year"
   ]
  },
  {
   "cell_type": "code",
   "execution_count": null,
   "metadata": {},
   "outputs": [],
   "source": [
    "t.groupby('FIRE_YEAR')['FIRE_SIZE'].sum() #Plot the size of fires by year"
   ]
  },
  {
   "cell_type": "code",
   "execution_count": null,
   "metadata": {},
   "outputs": [],
   "source": [
    "t['DISCOVERY_DATE'].max() #Not Sure what Date is"
   ]
  },
  {
   "cell_type": "code",
   "execution_count": null,
   "metadata": {},
   "outputs": [],
   "source": [
    "t['DISCOVERY_DOY'].iloc[:10]"
   ]
  },
  {
   "cell_type": "code",
   "execution_count": null,
   "metadata": {},
   "outputs": [],
   "source": [
    "t.info() #May have to convert a lot of these data types"
   ]
  },
  {
   "cell_type": "code",
   "execution_count": null,
   "metadata": {},
   "outputs": [],
   "source": [
    "t['DISCOVERY_DOY'].plot.kde() #Could Break down by state"
   ]
  },
  {
   "cell_type": "code",
   "execution_count": null,
   "metadata": {},
   "outputs": [],
   "source": [
    "t['DISCOVERY_DATE'].plot.kde()"
   ]
  },
  {
   "cell_type": "code",
   "execution_count": null,
   "metadata": {},
   "outputs": [],
   "source": [
    "t.groupby('STAT_CAUSE_CODE')['STAT_CAUSE_DESCR'].value_counts()"
   ]
  },
  {
   "cell_type": "code",
   "execution_count": null,
   "metadata": {},
   "outputs": [],
   "source": [
    "t[t['STAT_CAUSE_DESCR'] == 'Fireworks']['DISCOVERY_DOY'].plot.kde()"
   ]
  },
  {
   "cell_type": "code",
   "execution_count": null,
   "metadata": {},
   "outputs": [],
   "source": [
    "t[t['STAT_CAUSE_DESCR'] == 'Arson']['DISCOVERY_DOY'].plot.kde()"
   ]
  },
  {
   "cell_type": "code",
   "execution_count": null,
   "metadata": {},
   "outputs": [],
   "source": [
    "t[t['STAT_CAUSE_DESCR'] == 'Lightning']['DISCOVERY_DOY'].plot.kde()"
   ]
  },
  {
   "cell_type": "code",
   "execution_count": null,
   "metadata": {},
   "outputs": [],
   "source": [
    "t[t['STAT_CAUSE_DESCR'] == 'Children']['DISCOVERY_DOY'].plot.kde()"
   ]
  },
  {
   "cell_type": "code",
   "execution_count": null,
   "metadata": {},
   "outputs": [],
   "source": [
    "pd.to_datetime(201431, format = '%Y%d')"
   ]
  },
  {
   "cell_type": "code",
   "execution_count": null,
   "metadata": {},
   "outputs": [],
   "source": [
    "t['LONGITUDE'].iloc[0]\n",
    "lat"
   ]
  },
  {
   "cell_type": "code",
   "execution_count": null,
   "metadata": {},
   "outputs": [],
   "source": [
    "from pyproj import Proj, transform\n",
    "p1 = Proj(init='epsg:4269')\n",
    "p2 = Proj(init = 'epsg:4326')\n",
    "lat = t['LATITUDE'].iloc[0]\n",
    "lon = t['LONGITUDE'].iloc[0]\n",
    "t_lat, t_lon = transform(p1, p2, lat, lon)"
   ]
  },
  {
   "cell_type": "code",
   "execution_count": null,
   "metadata": {},
   "outputs": [],
   "source": [
    "from geopy.geocoders import Nominatim\n",
    "geolocator = Nominatim(user_agent='Sean')\n",
    "\n",
    "# lat = t['LATITUDE'].iloc[0]\n",
    "# lon = t['LONGITUDE'].iloc[0]\n",
    "\n",
    "location = geolocator.reverse('85, 86')\n",
    "print(location.address)"
   ]
  },
  {
   "cell_type": "code",
   "execution_count": null,
   "metadata": {},
   "outputs": [],
   "source": [
    "t[[]]\n",
    "cause = t['STAT_CAUSE_DESCR']"
   ]
  }
 ],
 "metadata": {
  "kernelspec": {
   "display_name": "Python 3",
   "language": "python",
   "name": "python3"
  },
  "language_info": {
   "codemirror_mode": {
    "name": "ipython",
    "version": 3
   },
   "file_extension": ".py",
   "mimetype": "text/x-python",
   "name": "python",
   "nbconvert_exporter": "python",
   "pygments_lexer": "ipython3",
   "version": "3.7.3"
  }
 },
 "nbformat": 4,
 "nbformat_minor": 2
}
