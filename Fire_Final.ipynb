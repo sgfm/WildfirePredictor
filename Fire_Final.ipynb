{
  "nbformat": 4,
  "nbformat_minor": 0,
  "metadata": {
    "colab": {
      "name": "Fire_Final.ipynb",
      "provenance": []
    },
    "kernelspec": {
      "name": "python3",
      "display_name": "Python 3"
    }
  },
  "cells": [
    {
      "cell_type": "code",
      "metadata": {
        "id": "bmbHWeg5e-OT",
        "colab_type": "code",
        "outputId": "e427c66c-1646-46cd-81fb-7ea537a84d07",
        "colab": {
          "base_uri": "https://localhost:8080/",
          "height": 80
        }
      },
      "source": [
        "import pandas as pd\n",
        "import numpy as np\n",
        "import datetime\n",
        "import seaborn as sns\n",
        "import matplotlib.pyplot as plt\n",
        "from statsmodels.tsa.stattools import adfuller\n",
        "from sklearn import preprocessing\n",
        "from statsmodels.tsa.stattools import pacf\n",
        "from sklearn.preprocessing import MinMaxScaler\n",
        "\n",
        "import math\n",
        "import tensorflow.keras\n",
        "from tensorflow.keras.models import Sequential\n",
        "from tensorflow.keras.layers import Dense\n",
        "from tensorflow.keras.layers import LSTM\n",
        "from tensorflow.keras.layers import Dropout\n",
        "from tensorflow.keras.layers import *\n",
        "from sklearn.metrics import mean_squared_error\n",
        "from sklearn.metrics import mean_absolute_error\n",
        "from keras.callbacks import EarlyStopping"
      ],
      "execution_count": 0,
      "outputs": [
        {
          "output_type": "display_data",
          "data": {
            "text/html": [
              "<p style=\"color: red;\">\n",
              "The default version of TensorFlow in Colab will soon switch to TensorFlow 2.x.<br>\n",
              "We recommend you <a href=\"https://www.tensorflow.org/guide/migrate\" target=\"_blank\">upgrade</a> now \n",
              "or ensure your notebook will continue to use TensorFlow 1.x via the <code>%tensorflow_version 1.x</code> magic:\n",
              "<a href=\"https://colab.research.google.com/notebooks/tensorflow_version.ipynb\" target=\"_blank\">more info</a>.</p>\n"
            ],
            "text/plain": [
              "<IPython.core.display.HTML object>"
            ]
          },
          "metadata": {
            "tags": []
          }
        },
        {
          "output_type": "stream",
          "text": [
            "Using TensorFlow backend.\n"
          ],
          "name": "stderr"
        }
      ]
    },
    {
      "cell_type": "code",
      "metadata": {
        "id": "wr8RzsxhhXRJ",
        "colab_type": "code",
        "colab": {}
      },
      "source": [
        "def read_fire_data(filename, year_col, doy_col):\n",
        "  df = pd.read_csv(filename)\n",
        "  df['date'] = df[year_col].apply(lambda x: datetime.datetime(x, 1, 1)) + df[doy_col].apply(lambda x: datetime.timedelta(x - 1))\n",
        "  df.set_index('date', inplace = True)\n",
        "  del df[year_col], df[doy_col], df['Unnamed: 0']\n",
        "  return df"
      ],
      "execution_count": 0,
      "outputs": []
    },
    {
      "cell_type": "code",
      "metadata": {
        "id": "gK0zy_KZjR2A",
        "colab_type": "code",
        "outputId": "7b0338a6-1d46-47cc-a6a6-937572fb4aec",
        "colab": {
          "base_uri": "https://localhost:8080/",
          "height": 235
        }
      },
      "source": [
        "df = read_fire_data('fire_raw.csv', 'FIRE_YEAR', 'DISCOVERY_DOY')\n",
        "df.head()"
      ],
      "execution_count": 0,
      "outputs": [
        {
          "output_type": "execute_result",
          "data": {
            "text/html": [
              "<div>\n",
              "<style scoped>\n",
              "    .dataframe tbody tr th:only-of-type {\n",
              "        vertical-align: middle;\n",
              "    }\n",
              "\n",
              "    .dataframe tbody tr th {\n",
              "        vertical-align: top;\n",
              "    }\n",
              "\n",
              "    .dataframe thead th {\n",
              "        text-align: right;\n",
              "    }\n",
              "</style>\n",
              "<table border=\"1\" class=\"dataframe\">\n",
              "  <thead>\n",
              "    <tr style=\"text-align: right;\">\n",
              "      <th></th>\n",
              "      <th>FIRE_SIZE</th>\n",
              "      <th>STATE</th>\n",
              "      <th>FIPS_CODE</th>\n",
              "    </tr>\n",
              "    <tr>\n",
              "      <th>date</th>\n",
              "      <th></th>\n",
              "      <th></th>\n",
              "      <th></th>\n",
              "    </tr>\n",
              "  </thead>\n",
              "  <tbody>\n",
              "    <tr>\n",
              "      <th>2005-02-02</th>\n",
              "      <td>0.10</td>\n",
              "      <td>CA</td>\n",
              "      <td>63.0</td>\n",
              "    </tr>\n",
              "    <tr>\n",
              "      <th>2004-05-12</th>\n",
              "      <td>0.25</td>\n",
              "      <td>CA</td>\n",
              "      <td>61.0</td>\n",
              "    </tr>\n",
              "    <tr>\n",
              "      <th>2004-05-31</th>\n",
              "      <td>0.10</td>\n",
              "      <td>CA</td>\n",
              "      <td>17.0</td>\n",
              "    </tr>\n",
              "    <tr>\n",
              "      <th>2004-06-28</th>\n",
              "      <td>0.10</td>\n",
              "      <td>CA</td>\n",
              "      <td>3.0</td>\n",
              "    </tr>\n",
              "    <tr>\n",
              "      <th>2004-06-28</th>\n",
              "      <td>0.10</td>\n",
              "      <td>CA</td>\n",
              "      <td>3.0</td>\n",
              "    </tr>\n",
              "  </tbody>\n",
              "</table>\n",
              "</div>"
            ],
            "text/plain": [
              "            FIRE_SIZE STATE  FIPS_CODE\n",
              "date                                  \n",
              "2005-02-02       0.10    CA       63.0\n",
              "2004-05-12       0.25    CA       61.0\n",
              "2004-05-31       0.10    CA       17.0\n",
              "2004-06-28       0.10    CA        3.0\n",
              "2004-06-28       0.10    CA        3.0"
            ]
          },
          "metadata": {
            "tags": []
          },
          "execution_count": 3
        }
      ]
    },
    {
      "cell_type": "code",
      "metadata": {
        "id": "ByRxM8mtls9d",
        "colab_type": "code",
        "colab": {}
      },
      "source": [
        ""
      ],
      "execution_count": 0,
      "outputs": []
    },
    {
      "cell_type": "code",
      "metadata": {
        "id": "ygSOzW7cqBnt",
        "colab_type": "code",
        "colab": {}
      },
      "source": [
        "#This is the most recent monthly data on Wild Fires\n",
        "import datetime\n",
        "lis = [[3131, 439], [123490, 2455], [649511, 6324], [687131, 6267], [134720, 4942], [526926, 5230], [1353260, 8195], [1116726, 6507], [285893, 4762], [126963, 6555], [275616, 8560], [163153, 5339], [54961, 2459], [167766, 5353], [957427, 6717], [817985, 5953], [234986, 4182], [600373, 5336], [2657380, 9000], [1648583, 7493], [1325423, 3033], [366641, 3408], [354376, 3252], [595161, 9945], [71189, 3257], [67289, 3200], [392010, 6297], [446198, 4938], [707411, 6197], [812501, 5112], [2313597, 8717], [2129088, 7861], [841953, 3720], [466374, 1791], [236457, 1421], [98542, 3400], [13095, 1139], [27604, 1018], [130508, 4934], [40716, 3534], [120868, 5338], [1331968, 5657], [1570697, 5571], [1001587, 8765], [195898, 6627], [134013, 2314]]\n",
        "\n",
        "idx = []\n",
        "for n in range(4):\n",
        "  for i in range(12):\n",
        "    idx.append(datetime.date(2016 + n, 1 + i, 1))\n",
        "len(idx)\n",
        "idx = idx[:-2]\n",
        "recent = pd.DataFrame(lis, columns = ['acres', 'amount'], index = idx)"
      ],
      "execution_count": 0,
      "outputs": []
    },
    {
      "cell_type": "code",
      "metadata": {
        "id": "wICGHwHjI2Ni",
        "colab_type": "code",
        "colab": {}
      },
      "source": [
        ""
      ],
      "execution_count": 0,
      "outputs": []
    },
    {
      "cell_type": "code",
      "metadata": {
        "id": "1aMGzd2HF57h",
        "colab_type": "code",
        "colab": {}
      },
      "source": [
        ""
      ],
      "execution_count": 0,
      "outputs": []
    },
    {
      "cell_type": "code",
      "metadata": {
        "id": "0sGjrPKnJIi5",
        "colab_type": "code",
        "colab": {}
      },
      "source": [
        ""
      ],
      "execution_count": 0,
      "outputs": []
    },
    {
      "cell_type": "code",
      "metadata": {
        "id": "gyF2pONgJmiv",
        "colab_type": "code",
        "colab": {}
      },
      "source": [
        "# scale fit on total dataset\n",
        "# for n in range(recent.shape[0]):\n",
        "#   transform\n",
        "#   create dataset\n",
        "#   next_month = model.predict()\n",
        "#   append(next_month)\n",
        "#   delete the last date"
      ],
      "execution_count": 0,
      "outputs": []
    },
    {
      "cell_type": "code",
      "metadata": {
        "id": "BFasKB5Ek4k6",
        "colab_type": "code",
        "colab": {}
      },
      "source": [
        "# def selection(df, states = None, cause = None):\n",
        "#   latest_date = df.index.max()\n",
        "#   earliest_date = df.index.min()\n",
        "#   temp_df = df\n",
        "#   if states not None:\n",
        "#     temp_df = temp_df[temp_df['STATE'].apply(lambda x: x in states)]\n",
        "#   # if cause not None: Need to add cause in original data set\n",
        "#   #   temp_df = ....\n",
        "  "
      ],
      "execution_count": 0,
      "outputs": []
    },
    {
      "cell_type": "code",
      "metadata": {
        "id": "3NV14I9ifI0R",
        "colab_type": "code",
        "colab": {}
      },
      "source": [
        "def test_stationarity(timeseries):\n",
        "    rolmean = timeseries.rolling(window=30).mean()\n",
        "    rolstd = timeseries.rolling(window=30).std()\n",
        "    \n",
        "    plt.figure(figsize=(14,5))\n",
        "    sns.despine(left=True)\n",
        "    orig = plt.plot(timeseries, color='blue',label='Original')\n",
        "    mean = plt.plot(rolmean, color='red', label='Rolling Mean')\n",
        "    std = plt.plot(rolstd, color='black', label = 'Rolling Std')\n",
        "\n",
        "    plt.legend(loc='best'); plt.title('Rolling Mean & Standard Deviation')\n",
        "    plt.show()\n",
        "    \n",
        "    print ('<Results of Dickey-Fuller Test>')\n",
        "    dftest = adfuller(timeseries, autolag='AIC')\n",
        "    dfoutput = pd.Series(dftest[0:4],\n",
        "                         index=['Test Statistic','p-value','#Lags Used','Number of Observations Used'])\n",
        "    for key,value in dftest[4].items():\n",
        "        dfoutput['Critical Value (%s)'%key] = value\n",
        "    print(dfoutput)"
      ],
      "execution_count": 0,
      "outputs": []
    },
    {
      "cell_type": "code",
      "metadata": {
        "id": "PsRi5JrMkjhb",
        "colab_type": "code",
        "outputId": "f171a70c-9a89-4f15-e125-a87b9ba9bb2f",
        "colab": {
          "base_uri": "https://localhost:8080/",
          "height": 489
        }
      },
      "source": [
        "#Grouby by a time\n",
        "test_stationarity(df.resample('M').sum().FIRE_SIZE)"
      ],
      "execution_count": 0,
      "outputs": [
        {
          "output_type": "display_data",
          "data": {
            "image/png": "[encoded data removed]",
            "text/plain": [
              "<Figure size 1008x360 with 1 Axes>"
            ]
          },
          "metadata": {
            "tags": []
          }
        },
        {
          "output_type": "stream",
          "text": [
            "<Results of Dickey-Fuller Test>\n",
            "Test Statistic                  -3.218357\n",
            "p-value                          0.018946\n",
            "#Lags Used                      11.000000\n",
            "Number of Observations Used    276.000000\n",
            "Critical Value (1%)             -3.454267\n",
            "Critical Value (5%)             -2.872070\n",
            "Critical Value (10%)            -2.572381\n",
            "dtype: float64\n"
          ],
          "name": "stdout"
        }
      ]
    },
    {
      "cell_type": "code",
      "metadata": {
        "id": "r1dvD1BDfIxT",
        "colab_type": "code",
        "colab": {}
      },
      "source": [
        "def create_dataset(dataset, look_back=1):\n",
        "    X, Y = [], []\n",
        "    for i in range(len(dataset)-look_back-1):\n",
        "        a = dataset[i:(i+look_back), 0]\n",
        "        X.append(a)\n",
        "        Y.append(dataset[i + look_back, 0])\n",
        "    return np.array(X), np.array(Y)"
      ],
      "execution_count": 0,
      "outputs": []
    },
    {
      "cell_type": "code",
      "metadata": {
        "id": "YfhmHyO_Hz8N",
        "colab_type": "code",
        "outputId": "4a7dbc76-f0a8-4422-d468-8e6a94116adc",
        "colab": {
          "base_uri": "https://localhost:8080/",
          "height": 235
        }
      },
      "source": [
        "df.sort_values(by='date').head()"
      ],
      "execution_count": 0,
      "outputs": [
        {
          "output_type": "execute_result",
          "data": {
            "text/html": [
              "<div>\n",
              "<style scoped>\n",
              "    .dataframe tbody tr th:only-of-type {\n",
              "        vertical-align: middle;\n",
              "    }\n",
              "\n",
              "    .dataframe tbody tr th {\n",
              "        vertical-align: top;\n",
              "    }\n",
              "\n",
              "    .dataframe thead th {\n",
              "        text-align: right;\n",
              "    }\n",
              "</style>\n",
              "<table border=\"1\" class=\"dataframe\">\n",
              "  <thead>\n",
              "    <tr style=\"text-align: right;\">\n",
              "      <th></th>\n",
              "      <th>FIRE_SIZE</th>\n",
              "      <th>STATE</th>\n",
              "      <th>FIPS_CODE</th>\n",
              "    </tr>\n",
              "    <tr>\n",
              "      <th>date</th>\n",
              "      <th></th>\n",
              "      <th></th>\n",
              "      <th></th>\n",
              "    </tr>\n",
              "  </thead>\n",
              "  <tbody>\n",
              "    <tr>\n",
              "      <th>1992-01-01</th>\n",
              "      <td>1.0</td>\n",
              "      <td>NC</td>\n",
              "      <td>NaN</td>\n",
              "    </tr>\n",
              "    <tr>\n",
              "      <th>1992-01-01</th>\n",
              "      <td>20.0</td>\n",
              "      <td>MS</td>\n",
              "      <td>111.0</td>\n",
              "    </tr>\n",
              "    <tr>\n",
              "      <th>1992-01-01</th>\n",
              "      <td>2.0</td>\n",
              "      <td>MS</td>\n",
              "      <td>121.0</td>\n",
              "    </tr>\n",
              "    <tr>\n",
              "      <th>1992-01-01</th>\n",
              "      <td>1.0</td>\n",
              "      <td>MS</td>\n",
              "      <td>153.0</td>\n",
              "    </tr>\n",
              "    <tr>\n",
              "      <th>1992-01-01</th>\n",
              "      <td>5.0</td>\n",
              "      <td>SC</td>\n",
              "      <td>41.0</td>\n",
              "    </tr>\n",
              "  </tbody>\n",
              "</table>\n",
              "</div>"
            ],
            "text/plain": [
              "            FIRE_SIZE STATE  FIPS_CODE\n",
              "date                                  \n",
              "1992-01-01        1.0    NC        NaN\n",
              "1992-01-01       20.0    MS      111.0\n",
              "1992-01-01        2.0    MS      121.0\n",
              "1992-01-01        1.0    MS      153.0\n",
              "1992-01-01        5.0    SC       41.0"
            ]
          },
          "metadata": {
            "tags": []
          },
          "execution_count": 122
        }
      ]
    },
    {
      "cell_type": "code",
      "metadata": {
        "id": "U0q490UjpOEJ",
        "colab_type": "code",
        "colab": {}
      },
      "source": [
        "mon_sum = df.resample('M', label= 'left').count().FIRE_SIZE\n",
        "mon_sum.index = mon_sum.index + datetime.timedelta(1)\n",
        "# append(recent['acres'])\n",
        "tot_sum = mon_sum.append(recent['amount'])\n"
      ],
      "execution_count": 0,
      "outputs": []
    },
    {
      "cell_type": "code",
      "metadata": {
        "id": "3QJQWl16fIvE",
        "colab_type": "code",
        "colab": {}
      },
      "source": [
        "\n",
        "dataset = tot_sum.values\n",
        "# dataset  = df.resample('M', label= 'left').sum().FIRE_SIZE.values\n",
        "dataset = dataset.astype('float32')\n",
        "dataset = np.reshape(dataset, (-1, 1))\n",
        "scaler = MinMaxScaler(feature_range=(0, 1)) #May want to play with different scalers\n",
        "dataset = scaler.fit_transform(dataset)\n",
        "train_size = int(len(dataset) * 0.80)\n",
        "test_size = len(dataset) - train_size\n",
        "train, test = dataset[0:train_size,:], dataset[train_size:len(dataset),:]\n",
        "\n",
        "look_back = 12 #Play with different look backs\n",
        "X_train, Y_train = create_dataset(train, look_back)\n",
        "X_test, Y_test = create_dataset(test, look_back)\n",
        "\n",
        "# reshape input to be [samples, time steps, features]\n",
        "X_train = np.reshape(X_train, (X_train.shape[0], 1, X_train.shape[1]))\n",
        "X_test = np.reshape(X_test, (X_test.shape[0], 1, X_test.shape[1]))"
      ],
      "execution_count": 0,
      "outputs": []
    },
    {
      "cell_type": "code",
      "metadata": {
        "id": "qpIQAN_zfIqI",
        "colab_type": "code",
        "outputId": "49bd4bec-b820-45ec-a198-c367cc75c1d6",
        "colab": {
          "base_uri": "https://localhost:8080/",
          "height": 1000
        }
      },
      "source": [
        "model = Sequential()\n",
        "model.add(LSTM(100, activation = 'relu', input_shape=(X_train.shape[1], X_train.shape[2])))\n",
        "model.add(Dense(1))\n",
        "model.compile(loss='mean_squared_error', optimizer='adam')\n",
        "\n",
        "history = model.fit(X_train, Y_train, epochs=1000, batch_size=70, validation_data=(X_test, Y_test), \n",
        "                    callbacks=[EarlyStopping(monitor='val_loss', patience=10)], verbose=1, shuffle=False) #Need to add the save best model\n",
        "\n",
        "model.summary()"
      ],
      "execution_count": 0,
      "outputs": [
        {
          "output_type": "stream",
          "text": [
            "Train on 254 samples, validate on 54 samples\n",
            "Epoch 1/1000\n",
            "254/254 [==============================] - 2s 8ms/sample - loss: 0.1489 - val_loss: 0.0801\n",
            "Epoch 2/1000\n",
            "254/254 [==============================] - 0s 139us/sample - loss: 0.1245 - val_loss: 0.0655\n",
            "Epoch 3/1000\n",
            "254/254 [==============================] - 0s 101us/sample - loss: 0.1025 - val_loss: 0.0525\n",
            "Epoch 4/1000\n",
            "254/254 [==============================] - 0s 95us/sample - loss: 0.0827 - val_loss: 0.0411\n",
            "Epoch 5/1000\n",
            "254/254 [==============================] - 0s 96us/sample - loss: 0.0652 - val_loss: 0.0317\n",
            "Epoch 6/1000\n",
            "254/254 [==============================] - 0s 95us/sample - loss: 0.0505 - val_loss: 0.0246\n",
            "Epoch 7/1000\n",
            "254/254 [==============================] - 0s 104us/sample - loss: 0.0393 - val_loss: 0.0201\n",
            "Epoch 8/1000\n",
            "254/254 [==============================] - 0s 101us/sample - loss: 0.0322 - val_loss: 0.0182\n",
            "Epoch 9/1000\n",
            "254/254 [==============================] - 0s 98us/sample - loss: 0.0290 - val_loss: 0.0183\n",
            "Epoch 10/1000\n",
            "254/254 [==============================] - 0s 91us/sample - loss: 0.0284 - val_loss: 0.0191\n",
            "Epoch 11/1000\n",
            "254/254 [==============================] - 0s 97us/sample - loss: 0.0287 - val_loss: 0.0195\n",
            "Epoch 12/1000\n",
            "254/254 [==============================] - 0s 97us/sample - loss: 0.0285 - val_loss: 0.0192\n",
            "Epoch 13/1000\n",
            "254/254 [==============================] - 0s 98us/sample - loss: 0.0277 - val_loss: 0.0184\n",
            "Epoch 14/1000\n",
            "254/254 [==============================] - 0s 88us/sample - loss: 0.0266 - val_loss: 0.0176\n",
            "Epoch 15/1000\n",
            "254/254 [==============================] - 0s 95us/sample - loss: 0.0257 - val_loss: 0.0170\n",
            "Epoch 16/1000\n",
            "254/254 [==============================] - 0s 95us/sample - loss: 0.0251 - val_loss: 0.0165\n",
            "Epoch 17/1000\n",
            "254/254 [==============================] - 0s 104us/sample - loss: 0.0246 - val_loss: 0.0162\n",
            "Epoch 18/1000\n",
            "254/254 [==============================] - 0s 101us/sample - loss: 0.0241 - val_loss: 0.0160\n",
            "Epoch 19/1000\n",
            "254/254 [==============================] - 0s 108us/sample - loss: 0.0236 - val_loss: 0.0158\n",
            "Epoch 20/1000\n",
            "254/254 [==============================] - 0s 90us/sample - loss: 0.0231 - val_loss: 0.0156\n",
            "Epoch 21/1000\n",
            "254/254 [==============================] - 0s 96us/sample - loss: 0.0226 - val_loss: 0.0154\n",
            "Epoch 22/1000\n",
            "254/254 [==============================] - 0s 96us/sample - loss: 0.0221 - val_loss: 0.0153\n",
            "Epoch 23/1000\n",
            "254/254 [==============================] - 0s 91us/sample - loss: 0.0216 - val_loss: 0.0151\n",
            "Epoch 24/1000\n",
            "254/254 [==============================] - 0s 98us/sample - loss: 0.0211 - val_loss: 0.0149\n",
            "Epoch 25/1000\n",
            "254/254 [==============================] - 0s 99us/sample - loss: 0.0206 - val_loss: 0.0147\n",
            "Epoch 26/1000\n",
            "254/254 [==============================] - 0s 102us/sample - loss: 0.0201 - val_loss: 0.0144\n",
            "Epoch 27/1000\n",
            "254/254 [==============================] - 0s 119us/sample - loss: 0.0197 - val_loss: 0.0142\n",
            "Epoch 28/1000\n",
            "254/254 [==============================] - 0s 111us/sample - loss: 0.0192 - val_loss: 0.0140\n",
            "Epoch 29/1000\n",
            "254/254 [==============================] - 0s 104us/sample - loss: 0.0188 - val_loss: 0.0138\n",
            "Epoch 30/1000\n",
            "254/254 [==============================] - 0s 117us/sample - loss: 0.0184 - val_loss: 0.0136\n",
            "Epoch 31/1000\n",
            "254/254 [==============================] - 0s 113us/sample - loss: 0.0179 - val_loss: 0.0134\n",
            "Epoch 32/1000\n",
            "254/254 [==============================] - 0s 98us/sample - loss: 0.0175 - val_loss: 0.0132\n",
            "Epoch 33/1000\n",
            "254/254 [==============================] - 0s 99us/sample - loss: 0.0172 - val_loss: 0.0130\n",
            "Epoch 34/1000\n",
            "254/254 [==============================] - 0s 95us/sample - loss: 0.0168 - val_loss: 0.0128\n",
            "Epoch 35/1000\n",
            "254/254 [==============================] - 0s 86us/sample - loss: 0.0164 - val_loss: 0.0127\n",
            "Epoch 36/1000\n",
            "254/254 [==============================] - 0s 109us/sample - loss: 0.0161 - val_loss: 0.0125\n",
            "Epoch 37/1000\n",
            "254/254 [==============================] - 0s 126us/sample - loss: 0.0158 - val_loss: 0.0123\n",
            "Epoch 38/1000\n",
            "254/254 [==============================] - 0s 126us/sample - loss: 0.0155 - val_loss: 0.0122\n",
            "Epoch 39/1000\n",
            "254/254 [==============================] - 0s 107us/sample - loss: 0.0152 - val_loss: 0.0120\n",
            "Epoch 40/1000\n",
            "254/254 [==============================] - 0s 104us/sample - loss: 0.0150 - val_loss: 0.0119\n",
            "Epoch 41/1000\n",
            "254/254 [==============================] - 0s 109us/sample - loss: 0.0147 - val_loss: 0.0118\n",
            "Epoch 42/1000\n",
            "254/254 [==============================] - 0s 109us/sample - loss: 0.0145 - val_loss: 0.0116\n",
            "Epoch 43/1000\n",
            "254/254 [==============================] - 0s 95us/sample - loss: 0.0143 - val_loss: 0.0115\n",
            "Epoch 44/1000\n",
            "254/254 [==============================] - 0s 107us/sample - loss: 0.0142 - val_loss: 0.0114\n",
            "Epoch 45/1000\n",
            "254/254 [==============================] - 0s 104us/sample - loss: 0.0140 - val_loss: 0.0113\n",
            "Epoch 46/1000\n",
            "254/254 [==============================] - 0s 102us/sample - loss: 0.0139 - val_loss: 0.0112\n",
            "Epoch 47/1000\n",
            "254/254 [==============================] - 0s 96us/sample - loss: 0.0137 - val_loss: 0.0112\n",
            "Epoch 48/1000\n",
            "254/254 [==============================] - 0s 132us/sample - loss: 0.0136 - val_loss: 0.0111\n",
            "Epoch 49/1000\n",
            "254/254 [==============================] - 0s 99us/sample - loss: 0.0135 - val_loss: 0.0110\n",
            "Epoch 50/1000\n",
            "254/254 [==============================] - 0s 114us/sample - loss: 0.0134 - val_loss: 0.0109\n",
            "Epoch 51/1000\n",
            "254/254 [==============================] - 0s 116us/sample - loss: 0.0133 - val_loss: 0.0109\n",
            "Epoch 52/1000\n",
            "254/254 [==============================] - 0s 106us/sample - loss: 0.0132 - val_loss: 0.0108\n",
            "Epoch 53/1000\n",
            "254/254 [==============================] - 0s 88us/sample - loss: 0.0131 - val_loss: 0.0108\n",
            "Epoch 54/1000\n",
            "254/254 [==============================] - 0s 107us/sample - loss: 0.0130 - val_loss: 0.0107\n",
            "Epoch 55/1000\n",
            "254/254 [==============================] - 0s 113us/sample - loss: 0.0129 - val_loss: 0.0107\n",
            "Epoch 56/1000\n",
            "254/254 [==============================] - 0s 106us/sample - loss: 0.0129 - val_loss: 0.0106\n",
            "Epoch 57/1000\n",
            "254/254 [==============================] - 0s 95us/sample - loss: 0.0128 - val_loss: 0.0106\n",
            "Epoch 58/1000\n",
            "254/254 [==============================] - 0s 105us/sample - loss: 0.0127 - val_loss: 0.0106\n",
            "Epoch 59/1000\n",
            "254/254 [==============================] - 0s 108us/sample - loss: 0.0127 - val_loss: 0.0105\n",
            "Epoch 60/1000\n",
            "254/254 [==============================] - 0s 110us/sample - loss: 0.0126 - val_loss: 0.0105\n",
            "Epoch 61/1000\n",
            "254/254 [==============================] - 0s 117us/sample - loss: 0.0125 - val_loss: 0.0105\n",
            "Epoch 62/1000\n",
            "254/254 [==============================] - 0s 92us/sample - loss: 0.0125 - val_loss: 0.0104\n",
            "Epoch 63/1000\n",
            "254/254 [==============================] - 0s 105us/sample - loss: 0.0124 - val_loss: 0.0104\n",
            "Epoch 64/1000\n",
            "254/254 [==============================] - 0s 102us/sample - loss: 0.0124 - val_loss: 0.0104\n",
            "Epoch 65/1000\n",
            "254/254 [==============================] - 0s 108us/sample - loss: 0.0123 - val_loss: 0.0103\n",
            "Epoch 66/1000\n",
            "254/254 [==============================] - 0s 99us/sample - loss: 0.0123 - val_loss: 0.0103\n",
            "Epoch 67/1000\n",
            "254/254 [==============================] - 0s 99us/sample - loss: 0.0122 - val_loss: 0.0102\n",
            "Epoch 68/1000\n",
            "254/254 [==============================] - 0s 91us/sample - loss: 0.0122 - val_loss: 0.0102\n",
            "Epoch 69/1000\n",
            "254/254 [==============================] - 0s 91us/sample - loss: 0.0121 - val_loss: 0.0102\n",
            "Epoch 70/1000\n",
            "254/254 [==============================] - 0s 84us/sample - loss: 0.0121 - val_loss: 0.0102\n",
            "Epoch 71/1000\n",
            "254/254 [==============================] - 0s 96us/sample - loss: 0.0121 - val_loss: 0.0102\n",
            "Epoch 72/1000\n",
            "254/254 [==============================] - 0s 98us/sample - loss: 0.0120 - val_loss: 0.0102\n",
            "Epoch 73/1000\n",
            "254/254 [==============================] - 0s 112us/sample - loss: 0.0120 - val_loss: 0.0102\n",
            "Epoch 74/1000\n",
            "254/254 [==============================] - 0s 106us/sample - loss: 0.0120 - val_loss: 0.0102\n",
            "Epoch 75/1000\n",
            "254/254 [==============================] - 0s 98us/sample - loss: 0.0119 - val_loss: 0.0102\n",
            "Epoch 76/1000\n",
            "254/254 [==============================] - 0s 100us/sample - loss: 0.0119 - val_loss: 0.0102\n",
            "Epoch 77/1000\n",
            "254/254 [==============================] - 0s 98us/sample - loss: 0.0119 - val_loss: 0.0102\n",
            "Epoch 78/1000\n",
            "254/254 [==============================] - 0s 98us/sample - loss: 0.0118 - val_loss: 0.0102\n",
            "Epoch 79/1000\n",
            "254/254 [==============================] - 0s 104us/sample - loss: 0.0118 - val_loss: 0.0102\n",
            "Epoch 80/1000\n",
            "254/254 [==============================] - 0s 117us/sample - loss: 0.0118 - val_loss: 0.0102\n",
            "Epoch 81/1000\n",
            "254/254 [==============================] - 0s 124us/sample - loss: 0.0117 - val_loss: 0.0102\n",
            "Epoch 82/1000\n",
            "254/254 [==============================] - 0s 121us/sample - loss: 0.0117 - val_loss: 0.0102\n",
            "Epoch 83/1000\n",
            "254/254 [==============================] - 0s 123us/sample - loss: 0.0117 - val_loss: 0.0102\n",
            "Epoch 84/1000\n",
            "254/254 [==============================] - 0s 105us/sample - loss: 0.0116 - val_loss: 0.0102\n",
            "Epoch 85/1000\n",
            "254/254 [==============================] - 0s 87us/sample - loss: 0.0116 - val_loss: 0.0102\n",
            "Model: \"sequential_8\"\n",
            "_________________________________________________________________\n",
            "Layer (type)                 Output Shape              Param #   \n",
            "=================================================================\n",
            "lstm_8 (LSTM)                (None, 100)               45200     \n",
            "_________________________________________________________________\n",
            "dense_8 (Dense)              (None, 1)                 101       \n",
            "=================================================================\n",
            "Total params: 45,301\n",
            "Trainable params: 45,301\n",
            "Non-trainable params: 0\n",
            "_________________________________________________________________\n"
          ],
          "name": "stdout"
        }
      ]
    },
    {
      "cell_type": "code",
      "metadata": {
        "id": "yzbXuxZsfIn9",
        "colab_type": "code",
        "outputId": "a34db2c0-e771-4792-8866-d3b520c09607",
        "colab": {
          "base_uri": "https://localhost:8080/",
          "height": 85
        }
      },
      "source": [
        "train_predict = model.predict(X_train)\n",
        "test_predict = model.predict(X_test)\n",
        "# invert predictions\n",
        "train_predict = scaler.inverse_transform(train_predict)\n",
        "Y_train = scaler.inverse_transform([Y_train])\n",
        "test_predict = scaler.inverse_transform(test_predict)\n",
        "Y_test = scaler.inverse_transform([Y_test])\n",
        "print('Train Mean Absolute Error:', mean_absolute_error(Y_train[0], train_predict[:,0]))\n",
        "print('Train Root Mean Squared Error:',np.sqrt(mean_squared_error(Y_train[0], train_predict[:,0])))\n",
        "print('Test Mean Absolute Error:', mean_absolute_error(Y_test[0], test_predict[:,0]))\n",
        "print('Test Root Mean Squared Error:',np.sqrt(mean_squared_error(Y_test[0], test_predict[:,0])))"
      ],
      "execution_count": 0,
      "outputs": [
        {
          "output_type": "stream",
          "text": [
            "Train Mean Absolute Error: 308183.9347825966\n",
            "Train Root Mean Squared Error: 571770.1289690062\n",
            "Test Mean Absolute Error: 431804.6889168853\n",
            "Test Root Mean Squared Error: 900087.0061673688\n"
          ],
          "name": "stdout"
        }
      ]
    },
    {
      "cell_type": "code",
      "metadata": {
        "id": "S5eIj-qCtijD",
        "colab_type": "code",
        "colab": {}
      },
      "source": [
        ""
      ],
      "execution_count": 0,
      "outputs": []
    },
    {
      "cell_type": "code",
      "metadata": {
        "id": "y4N8QIe7fImJ",
        "colab_type": "code",
        "outputId": "dd464376-bb8a-4213-cf6b-a9ac3d453733",
        "colab": {
          "base_uri": "https://localhost:8080/",
          "height": 350
        }
      },
      "source": [
        "dftest = adfuller(Y_test, autolag='AIC')\n",
        "dfoutput = pd.Series(dftest[0:4],\n",
        "                      index=['Test Statistic','p-value','#Lags Used','Number of Observations Used'])\n",
        "for key,value in dftest[4].items():\n",
        "    dfoutput['Critical Value (%s)'%key] = value\n",
        "print(dfoutput)"
      ],
      "execution_count": 0,
      "outputs": [
        {
          "output_type": "error",
          "ename": "ValueError",
          "evalue": "ignored",
          "traceback": [
            "\u001b[0;31m---------------------------------------------------------------------------\u001b[0m",
            "\u001b[0;31mValueError\u001b[0m                                Traceback (most recent call last)",
            "\u001b[0;32m<ipython-input-13-3f3b8a8279af>\u001b[0m in \u001b[0;36m<module>\u001b[0;34m()\u001b[0m\n\u001b[0;32m----> 1\u001b[0;31m \u001b[0mdftest\u001b[0m \u001b[0;34m=\u001b[0m \u001b[0madfuller\u001b[0m\u001b[0;34m(\u001b[0m\u001b[0mY_test\u001b[0m\u001b[0;34m,\u001b[0m \u001b[0mautolag\u001b[0m\u001b[0;34m=\u001b[0m\u001b[0;34m'AIC'\u001b[0m\u001b[0;34m)\u001b[0m\u001b[0;34m\u001b[0m\u001b[0;34m\u001b[0m\u001b[0m\n\u001b[0m\u001b[1;32m      2\u001b[0m dfoutput = pd.Series(dftest[0:4],\n\u001b[1;32m      3\u001b[0m                       index=['Test Statistic','p-value','#Lags Used','Number of Observations Used'])\n\u001b[1;32m      4\u001b[0m \u001b[0;32mfor\u001b[0m \u001b[0mkey\u001b[0m\u001b[0;34m,\u001b[0m\u001b[0mvalue\u001b[0m \u001b[0;32min\u001b[0m \u001b[0mdftest\u001b[0m\u001b[0;34m[\u001b[0m\u001b[0;36m4\u001b[0m\u001b[0;34m]\u001b[0m\u001b[0;34m.\u001b[0m\u001b[0mitems\u001b[0m\u001b[0;34m(\u001b[0m\u001b[0;34m)\u001b[0m\u001b[0;34m:\u001b[0m\u001b[0;34m\u001b[0m\u001b[0;34m\u001b[0m\u001b[0m\n\u001b[1;32m      5\u001b[0m     \u001b[0mdfoutput\u001b[0m\u001b[0;34m[\u001b[0m\u001b[0;34m'Critical Value (%s)'\u001b[0m\u001b[0;34m%\u001b[0m\u001b[0mkey\u001b[0m\u001b[0;34m]\u001b[0m \u001b[0;34m=\u001b[0m \u001b[0mvalue\u001b[0m\u001b[0;34m\u001b[0m\u001b[0;34m\u001b[0m\u001b[0m\n",
            "\u001b[0;32m/usr/local/lib/python3.6/dist-packages/statsmodels/tsa/stattools.py\u001b[0m in \u001b[0;36madfuller\u001b[0;34m(x, maxlag, regression, autolag, store, regresults)\u001b[0m\n\u001b[1;32m    227\u001b[0m         \u001b[0mmaxlag\u001b[0m \u001b[0;34m=\u001b[0m \u001b[0mmin\u001b[0m\u001b[0;34m(\u001b[0m\u001b[0mnobs\u001b[0m \u001b[0;34m//\u001b[0m \u001b[0;36m2\u001b[0m \u001b[0;34m-\u001b[0m \u001b[0mntrend\u001b[0m \u001b[0;34m-\u001b[0m \u001b[0;36m1\u001b[0m\u001b[0;34m,\u001b[0m \u001b[0mmaxlag\u001b[0m\u001b[0;34m)\u001b[0m\u001b[0;34m\u001b[0m\u001b[0;34m\u001b[0m\u001b[0m\n\u001b[1;32m    228\u001b[0m         \u001b[0;32mif\u001b[0m \u001b[0mmaxlag\u001b[0m \u001b[0;34m<\u001b[0m \u001b[0;36m0\u001b[0m\u001b[0;34m:\u001b[0m\u001b[0;34m\u001b[0m\u001b[0;34m\u001b[0m\u001b[0m\n\u001b[0;32m--> 229\u001b[0;31m             raise ValueError('sample size is too short to use selected '\n\u001b[0m\u001b[1;32m    230\u001b[0m                              'regression component')\n\u001b[1;32m    231\u001b[0m     \u001b[0;32melif\u001b[0m \u001b[0mmaxlag\u001b[0m \u001b[0;34m>\u001b[0m \u001b[0mnobs\u001b[0m \u001b[0;34m//\u001b[0m \u001b[0;36m2\u001b[0m \u001b[0;34m-\u001b[0m \u001b[0mntrend\u001b[0m \u001b[0;34m-\u001b[0m \u001b[0;36m1\u001b[0m\u001b[0;34m:\u001b[0m\u001b[0;34m\u001b[0m\u001b[0;34m\u001b[0m\u001b[0m\n",
            "\u001b[0;31mValueError\u001b[0m: sample size is too short to use selected regression component"
          ]
        }
      ]
    },
    {
      "cell_type": "code",
      "metadata": {
        "id": "SACaFI4WwTlk",
        "colab_type": "code",
        "colab": {}
      },
      "source": [
        ""
      ],
      "execution_count": 0,
      "outputs": []
    },
    {
      "cell_type": "code",
      "metadata": {
        "id": "ouAjdNaUvOt8",
        "colab_type": "code",
        "colab": {}
      },
      "source": [
        "months = 60\n",
        "start = X_test[-1].reshape((1,1,look_back))\n",
        "out = []\n",
        "for i in range(months):\n",
        "  next_mon = model.predict(start[0][0][-look_back:].reshape(1,1,look_back))\n",
        "  start = np.append(start, next_mon).reshape(1, 1, look_back+i +1)\n",
        "  out.append(next_mon)"
      ],
      "execution_count": 0,
      "outputs": []
    },
    {
      "cell_type": "code",
      "metadata": {
        "id": "zz-rVn4RxyK6",
        "colab_type": "code",
        "colab": {}
      },
      "source": [
        "arr = np.asarray(out).reshape((months, 1))\n",
        "arr_tran = scaler.inverse_transform(arr)"
      ],
      "execution_count": 0,
      "outputs": []
    },
    {
      "cell_type": "code",
      "metadata": {
        "id": "Vo0WiW3UKl-6",
        "colab_type": "code",
        "colab": {}
      },
      "source": [
        "idx = []\n",
        "for n in range(6):\n",
        "  for i in range(12):\n",
        "    idx.append(datetime.date(2019 + n, 1 + i, 1))\n",
        "len(idx)\n",
        "idx = idx[10:-2]"
      ],
      "execution_count": 0,
      "outputs": []
    },
    {
      "cell_type": "code",
      "metadata": {
        "id": "nGxxFIoJpjyn",
        "colab_type": "code",
        "outputId": "82bf246e-a2f8-4760-f325-a975dd2eb045",
        "colab": {
          "base_uri": "https://localhost:8080/",
          "height": 34
        }
      },
      "source": [
        "len(idx)"
      ],
      "execution_count": 0,
      "outputs": [
        {
          "output_type": "execute_result",
          "data": {
            "text/plain": [
              "48"
            ]
          },
          "metadata": {
            "tags": []
          },
          "execution_count": 87
        }
      ]
    },
    {
      "cell_type": "code",
      "metadata": {
        "id": "UqxD8gx6xMbj",
        "colab_type": "code",
        "colab": {}
      },
      "source": [
        "df_cou_preds = pd.DataFrame(arr_tran, index = idx, columns=['col'])"
      ],
      "execution_count": 0,
      "outputs": []
    },
    {
      "cell_type": "code",
      "metadata": {
        "id": "DudwxiV_xrLG",
        "colab_type": "code",
        "outputId": "5b4d4d8e-14c6-46e3-a578-55bcb0010bb8",
        "colab": {
          "base_uri": "https://localhost:8080/",
          "height": 344
        }
      },
      "source": [
        "# plt.plot(df.resample('M').sum().FIRE_SIZE)\n",
        "plt.figure(figsize=(7,4))\n",
        "plt.plot(df.resample('M', label= 'left').count().FIRE_SIZE, label = 'Trained Data', c = 'black')\n",
        "plt.plot(df_cou_preds, label = 'Predicted', c = '#eb5600')\n",
        "plt.plot(recent['amount'], c = 'black')\n",
        "plt.tight_layout()\n",
        "sns.despine(top=True)\n",
        "plt.ylabel('Number of Wildfires')\n",
        "plt.xlabel('Date')\n",
        "plt.title('Number of Wildfires by Month')\n",
        "plt.xlim((datetime.date(2014, 1, 1), datetime.date(2022, 1, 1)))\n",
        "plt.ylim()\n",
        "plt.legend()"
      ],
      "execution_count": 0,
      "outputs": [
        {
          "output_type": "execute_result",
          "data": {
            "text/plain": [
              "<matplotlib.legend.Legend at 0x7fdc15075b00>"
            ]
          },
          "metadata": {
            "tags": []
          },
          "execution_count": 107
        },
        {
          "output_type": "display_data",
          "data": {
            "image/png": "[encoded data removed]",
            "text/plain": [
              "<Figure size 504x288 with 1 Axes>"
            ]
          },
          "metadata": {
            "tags": []
          }
        }
      ]
    },
    {
      "cell_type": "code",
      "metadata": {
        "id": "3waQIAy1fIjR",
        "colab_type": "code",
        "outputId": "4ec52d75-9c94-4874-fb72-79aef7c1014c",
        "colab": {
          "base_uri": "https://localhost:8080/",
          "height": 316
        }
      },
      "source": [
        "aa=[x for x in range(45)]\n",
        "plt.figure(figsize=(8,4))\n",
        "plt.plot(aa, Y_test[0][:45], marker='.', label=\"actual\")\n",
        "plt.plot(aa, test_predict[:,0][:45], 'r', label=\"prediction\")\n",
        "# plt.tick_params(left=False, labelleft=True) #remove ticks\n",
        "plt.tight_layout()\n",
        "sns.despine(top=True)\n",
        "plt.subplots_adjust(left=0.07)\n",
        "plt.ylabel('Acres Burned', size=15)\n",
        "plt.xlabel('Time step', size=15)\n",
        "plt.legend(fontsize=15)\n",
        "plt.show()"
      ],
      "execution_count": 0,
      "outputs": [
        {
          "output_type": "display_data",
          "data": {
            "image/png": "[encoded data removed]",
            "text/plain": [
              "<Figure size 576x288 with 1 Axes>"
            ]
          },
          "metadata": {
            "tags": []
          }
        }
      ]
    },
    {
      "cell_type": "code",
      "metadata": {
        "id": "qxHZKBAdfIg6",
        "colab_type": "code",
        "colab": {}
      },
      "source": [
        ""
      ],
      "execution_count": 0,
      "outputs": []
    },
    {
      "cell_type": "code",
      "metadata": {
        "id": "OTyqqzAffIen",
        "colab_type": "code",
        "colab": {}
      },
      "source": [
        ""
      ],
      "execution_count": 0,
      "outputs": []
    },
    {
      "cell_type": "code",
      "metadata": {
        "id": "HtcWpmh3fIcP",
        "colab_type": "code",
        "colab": {}
      },
      "source": [
        ""
      ],
      "execution_count": 0,
      "outputs": []
    },
    {
      "cell_type": "code",
      "metadata": {
        "id": "1PqPXVRafIaQ",
        "colab_type": "code",
        "colab": {}
      },
      "source": [
        ""
      ],
      "execution_count": 0,
      "outputs": []
    },
    {
      "cell_type": "code",
      "metadata": {
        "id": "P24zK7UVfIXt",
        "colab_type": "code",
        "colab": {}
      },
      "source": [
        ""
      ],
      "execution_count": 0,
      "outputs": []
    },
    {
      "cell_type": "code",
      "metadata": {
        "id": "TY34DuVEfIVR",
        "colab_type": "code",
        "colab": {}
      },
      "source": [
        ""
      ],
      "execution_count": 0,
      "outputs": []
    },
    {
      "cell_type": "code",
      "metadata": {
        "id": "LWVKwbhTfIS1",
        "colab_type": "code",
        "colab": {}
      },
      "source": [
        ""
      ],
      "execution_count": 0,
      "outputs": []
    },
    {
      "cell_type": "code",
      "metadata": {
        "id": "IiWhOtRlfIOH",
        "colab_type": "code",
        "colab": {}
      },
      "source": [
        ""
      ],
      "execution_count": 0,
      "outputs": []
    },
    {
      "cell_type": "code",
      "metadata": {
        "id": "uCgxT5X0fHs6",
        "colab_type": "code",
        "colab": {}
      },
      "source": [
        ""
      ],
      "execution_count": 0,
      "outputs": []
    }
  ]
}